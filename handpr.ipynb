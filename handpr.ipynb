{
  "nbformat": 4,
  "nbformat_minor": 0,
  "metadata": {
    "colab": {
      "name": "handpr.ipynb",
      "provenance": [],
      "collapsed_sections": [
        "oMrrtbDg0yy3",
        "SBhJ9XIS1Qp8",
        "E88hwVDX1WKe",
        "jwXUsJGy1fcc",
        "SfyPQD4V1lt5",
        "bMGJWIJr2MbB"
      ]
    },
    "kernelspec": {
      "name": "python3",
      "display_name": "Python 3"
    },
    "language_info": {
      "name": "python"
    },
    "gpuClass": "standard"
  },
  "cells": [
    {
      "cell_type": "markdown",
      "source": [
        "#modules"
      ],
      "metadata": {
        "id": "oMrrtbDg0yy3"
      }
    },
    {
      "cell_type": "code",
      "execution_count": 1,
      "metadata": {
        "id": "OObwNXr-Xe40"
      },
      "outputs": [],
      "source": [
        "import torch\n",
        "import torchvision\n",
        "import torchvision.transforms as transforms\n",
        "import torch.nn as nn\n",
        "import torch.nn.functional as F\n",
        "import torch.optim as optim\n",
        "\n",
        "\n",
        "import os\n",
        "import numpy as np\n",
        "import cv2\n",
        "import urllib.request\n",
        "import glob"
      ]
    },
    {
      "cell_type": "markdown",
      "source": [
        "#Download and Order Data"
      ],
      "metadata": {
        "id": "SBhJ9XIS1Qp8"
      }
    },
    {
      "cell_type": "code",
      "source": [
        "os.mkdir(\"data\")"
      ],
      "metadata": {
        "id": "AhivZDWIX7cr"
      },
      "execution_count": 2,
      "outputs": []
    },
    {
      "cell_type": "code",
      "source": [
        "classes = ['saw', 'crown', 'cup', 'cloud', 'pizza', 'camera', 'face']"
      ],
      "metadata": {
        "id": "kOxsebNvYBFA"
      },
      "execution_count": 3,
      "outputs": []
    },
    {
      "cell_type": "code",
      "source": [
        "base = 'https://storage.googleapis.com/quickdraw_dataset/full/numpy_bitmap/'\n",
        "for c in classes:\n",
        "  cls_url = c.replace('_', '%20')\n",
        "  path = base+cls_url+'.npy'\n",
        "  print(path)\n",
        "  urllib.request.urlretrieve(path, \"data/\" + c + '.npy')"
      ],
      "metadata": {
        "id": "PLqkIbQhX952"
      },
      "execution_count": null,
      "outputs": []
    },
    {
      "cell_type": "code",
      "source": [
        "def load_data(root, vfold_ratio=0.2, max_items_per_class=25000):\n",
        "    all_files = glob.glob(os.path.join(root, '*.npy'))\n",
        "\n",
        "    #initialize variables \n",
        "    x = np.empty([0, 784])\n",
        "    y = np.empty([0])\n",
        "    class_names = []\n",
        "    \n",
        "    #load a subset of the data to memory \n",
        "    for idx, file in enumerate(all_files):\n",
        "        data = np.load(file)\n",
        "        data = data[0: max_items_per_class, :]\n",
        "        labels = np.full(data.shape[0], idx)\n",
        "\n",
        "        x = np.concatenate((x, data), axis=0)\n",
        "        y = np.append(y, labels)\n",
        "\n",
        "        class_name, ext = os.path.splitext(os.path.basename(file))\n",
        "        class_names.append(class_name)\n",
        "\n",
        "    data = None\n",
        "    labels = None\n",
        "\n",
        "    #separate into training and testing \n",
        "    permutation = np.random.permutation(y.shape[0])\n",
        "    \n",
        "    x = x[permutation, :]\n",
        "    y = y[permutation]\n",
        "\n",
        "    vfold_size = int(x.shape[0]/100*(vfold_ratio*100))\n",
        "    \n",
        "    X_test = x[0:vfold_size, :]\n",
        "    y_test = y[0:vfold_size]\n",
        "\n",
        "    X_train = x[vfold_size:x.shape[0], :]\n",
        "    y_train = y[vfold_size:y.shape[0]]\n",
        "    return X_train, y_train, X_test, y_test, class_names"
      ],
      "metadata": {
        "id": "D0DqnG-WZQxi"
      },
      "execution_count": 5,
      "outputs": []
    },
    {
      "cell_type": "code",
      "source": [
        "X_train, y_train, X_test, y_test, classes = load_data(\"data\")"
      ],
      "metadata": {
        "id": "v6qrK0foggkH"
      },
      "execution_count": null,
      "outputs": []
    },
    {
      "cell_type": "markdown",
      "source": [
        "#Preprocess Data"
      ],
      "metadata": {
        "id": "E88hwVDX1WKe"
      }
    },
    {
      "cell_type": "code",
      "source": [
        "\n",
        "def preprocess(X_train, X_test):\n",
        "\n",
        "  X_train = X_train.reshape(X_train.shape[0], 28, 28, 1).astype(\"uint8\")\n",
        "  X_train = np.repeat(X_train, 3, -1)\n",
        "  X_test = X_test.reshape(X_test.shape[0], 28, 28, 1).astype(\"uint8\")\n",
        "  X_test = np.repeat(X_test, 3, -1)\n",
        "\n",
        "  X_train = cv2.bitwise_not(X_train)\n",
        "  X_test = cv2.bitwise_not(X_test)\n",
        "  \n",
        "  X_train = X_train / 255.\n",
        "  X_test = X_test / 255.\n",
        "\n",
        "  X_train = np.transpose(X_train, (0, 3, 2, 1))\n",
        "  X_test = np.transpose(X_test, (0, 3, 2, 1))\n",
        "\n",
        "  X_train = torch.from_numpy(X_train)\n",
        "  X_test = torch.from_numpy(X_test)\n",
        "\n",
        "  X_train = torch.unsqueeze(X_train, 0)\n",
        "  X_test = torch.unsqueeze(X_test, 0)\n",
        "\n",
        "  X_train = torch.transpose(X_train,0,1)\n",
        "  X_test = torch.transpose(X_test,0,1)\n",
        "\n",
        "  return X_train, X_test\n",
        "\n"
      ],
      "metadata": {
        "id": "1fycZf0UQZlN"
      },
      "execution_count": 7,
      "outputs": []
    },
    {
      "cell_type": "code",
      "source": [
        "X_train, X_test = preprocess(X_train, X_test)"
      ],
      "metadata": {
        "id": "5wLfcBljUccV"
      },
      "execution_count": 8,
      "outputs": []
    },
    {
      "cell_type": "code",
      "source": [
        "y_train = torch.from_numpy(y_train)"
      ],
      "metadata": {
        "id": "vj9NT3_BaHPI"
      },
      "execution_count": 9,
      "outputs": []
    },
    {
      "cell_type": "markdown",
      "source": [
        "#CNN Architecture"
      ],
      "metadata": {
        "id": "jwXUsJGy1fcc"
      }
    },
    {
      "cell_type": "code",
      "source": [
        "\n",
        "class Net(nn.Module):\n",
        "    def __init__(self):\n",
        "        super().__init__()\n",
        "        self.conv1 = nn.Conv2d(3, 8, 3)\n",
        "        self.bn1=nn.BatchNorm2d(8)\n",
        "        self.conv2 = nn.Conv2d(8, 16, 3)\n",
        "        self.bn2=nn.BatchNorm2d(16)\n",
        "        self.pool = nn.MaxPool2d(2, 2)\n",
        "        self.conv3 = nn.Conv2d(16, 32, 3)\n",
        "        self.bn3=nn.BatchNorm2d(32)\n",
        "        self.fc1 = nn.Linear(32 * 5 * 5, 128)\n",
        "        #self.drp1=nn.Dropout(0.3)\n",
        "        self.fc2 = nn.Linear(128, 64)\n",
        "        #self.drp2=nn.Dropout(0.1)\n",
        "        self.fc5 = nn.Linear(64, 7)\n",
        "\n",
        "    def forward(self, x):\n",
        "        x = (self.bn1(F.leaky_relu(self.conv1(x))))\n",
        "        x = self.pool(self.bn2(F.leaky_relu(self.conv2(x))))\n",
        "        x = self.pool(self.bn3(F.leaky_relu(self.conv3(x))))\n",
        "        x = torch.flatten(x, 1) # flatten all dimensions except batch\n",
        "        x = F.leaky_relu((self.fc1(x)))\n",
        "        x = F.leaky_relu((self.fc2(x)))\n",
        "        x = self.fc5(x)\n",
        "        return x\n",
        "\n",
        "\n",
        "# class Net(nn.Module):   \n",
        "#   def __init__(self):\n",
        "#       super(Net, self).__init__()\n",
        "\n",
        "#       self.cnn_layers = nn.Sequential(\n",
        "#           # Defining a 2D convolution layer\n",
        "#           nn.Conv2d(3, 5, kernel_size=3),\n",
        "#           #nn.BatchNorm2d(5),\n",
        "#           nn.ReLU(inplace=True),\n",
        "#           nn.MaxPool2d(kernel_size=2, stride=2),\n",
        "#           # Defining another 2D convolution layer\n",
        "#           #nn.Conv2d(5, 8, kernel_size=4, stride=1, padding=1),\n",
        "#           #nn.BatchNorm2d(8),\n",
        "#           #nn.ReLU(inplace=True),\n",
        "#           #nn.MaxPool2d(kernel_size=2, stride=2),\n",
        "#       )\n",
        "\n",
        "#       self.linear_layers = nn.Sequential(\n",
        "#           nn.Linear(5*13*13, 10)\n",
        "#       )\n",
        "\n",
        "#   # Defining the forward pass    \n",
        "#   def forward(self, x):\n",
        "#       x = self.cnn_layers(x)\n",
        "#       x = x.view(x.size(0), -1)\n",
        "#       x = self.linear_layers(x)\n",
        "#       return x\n",
        "\n"
      ],
      "metadata": {
        "id": "JsJcBayICrHy"
      },
      "execution_count": null,
      "outputs": []
    },
    {
      "cell_type": "code",
      "source": [
        "net =  Net()\n",
        "print(net)"
      ],
      "metadata": {
        "colab": {
          "base_uri": "https://localhost:8080/"
        },
        "id": "8UdSBVtTKiYT",
        "outputId": "3fc51647-1b3c-4409-d97b-e9cfbb81c8cd"
      },
      "execution_count": 11,
      "outputs": [
        {
          "output_type": "stream",
          "name": "stdout",
          "text": [
            "Net(\n",
            "  (conv1): Conv2d(3, 8, kernel_size=(3, 3), stride=(1, 1))\n",
            "  (bn1): BatchNorm2d(8, eps=1e-05, momentum=0.1, affine=True, track_running_stats=True)\n",
            "  (conv2): Conv2d(8, 16, kernel_size=(3, 3), stride=(1, 1))\n",
            "  (bn2): BatchNorm2d(16, eps=1e-05, momentum=0.1, affine=True, track_running_stats=True)\n",
            "  (pool): MaxPool2d(kernel_size=2, stride=2, padding=0, dilation=1, ceil_mode=False)\n",
            "  (conv3): Conv2d(16, 32, kernel_size=(3, 3), stride=(1, 1))\n",
            "  (bn3): BatchNorm2d(32, eps=1e-05, momentum=0.1, affine=True, track_running_stats=True)\n",
            "  (fc1): Linear(in_features=800, out_features=128, bias=True)\n",
            "  (fc2): Linear(in_features=128, out_features=64, bias=True)\n",
            "  (fc5): Linear(in_features=64, out_features=7, bias=True)\n",
            ")\n"
          ]
        }
      ]
    },
    {
      "cell_type": "code",
      "source": [
        "criterion = nn.CrossEntropyLoss()\n",
        "#optimizer = optim.SGD(net.parameters(), lr=0.001, momentum=0.9)\n",
        "#optimizer = optim.Adam(net.parameters(),lr=0.005,betas=(0.9,0.999),eps=1e-08,weight_decay=0,amsgrad=False)\n",
        "optimizer = optim.Adam(net.parameters(), lr=0.003)"
      ],
      "metadata": {
        "id": "5DVUTulLKk5q"
      },
      "execution_count": 12,
      "outputs": []
    },
    {
      "cell_type": "code",
      "source": [
        "X_train.shape"
      ],
      "metadata": {
        "colab": {
          "base_uri": "https://localhost:8080/"
        },
        "id": "MRE3GcLcpUiM",
        "outputId": "da92154b-4495-43a8-a8b0-24b19c57c1db"
      },
      "execution_count": 13,
      "outputs": [
        {
          "output_type": "execute_result",
          "data": {
            "text/plain": [
              "torch.Size([140000, 1, 3, 28, 28])"
            ]
          },
          "metadata": {},
          "execution_count": 13
        }
      ]
    },
    {
      "cell_type": "code",
      "source": [
        "y_train.unique(return_counts=True)"
      ],
      "metadata": {
        "colab": {
          "base_uri": "https://localhost:8080/"
        },
        "id": "ykjdUWsBswNx",
        "outputId": "95fa3fbd-0ce4-4e10-f7d7-56c248fe0c1f"
      },
      "execution_count": 14,
      "outputs": [
        {
          "output_type": "execute_result",
          "data": {
            "text/plain": [
              "(tensor([0., 1., 2., 3., 4., 5., 6.], dtype=torch.float64),\n",
              " tensor([19906, 20055, 19903, 20010, 20053, 20053, 20020]))"
            ]
          },
          "metadata": {},
          "execution_count": 14
        }
      ]
    },
    {
      "cell_type": "markdown",
      "source": [
        "#Train Data"
      ],
      "metadata": {
        "id": "SfyPQD4V1lt5"
      }
    },
    {
      "cell_type": "code",
      "source": [
        "for epoch in range(3):  # loop over the dataset multiple times\n",
        "\n",
        "    running_loss = 0.0\n",
        "    #for i, data in enumerate(X_train):\n",
        "    for i in range(len(X_train)):\n",
        "          # get the inputs; data is a list of [inputs, labels]\n",
        "        #inputs, labels = data\n",
        "        inputs = X_train[i]\n",
        "        \n",
        "        label = y_train[i]\n",
        "        # zero the parameter gradients\n",
        "        optimizer.zero_grad()\n",
        "\n",
        "        # forward + backward + optimize\n",
        "        outputs = net(inputs.float())\n",
        "        #print(outputs)\n",
        "        label = label.type(torch.LongTensor)\n",
        "        loss = criterion(outputs[0], label)\n",
        "        \n",
        "        loss.backward()\n",
        "\n",
        "        optimizer.step()\n",
        "\n",
        "        # print statistics\n",
        "        running_loss += loss.item()\n",
        "        if i % 2000 == 1999:    # print every 2000 mini-batches\n",
        "            print(f'[{epoch + 1}, {i + 1:5d}] loss: {running_loss / 2000:.3f}')\n",
        "            running_loss = 0.0\n",
        "\n",
        "print('Finished Training')"
      ],
      "metadata": {
        "id": "5YGt0yw1Kpn6"
      },
      "execution_count": null,
      "outputs": []
    },
    {
      "cell_type": "code",
      "source": [
        "PATH = './model_tot.pth'\n",
        "torch.save(net, PATH)"
      ],
      "metadata": {
        "id": "gbUZclhsPUaC"
      },
      "execution_count": 21,
      "outputs": []
    },
    {
      "cell_type": "code",
      "source": [
        "PATH = './model_val.pth'\n",
        "torch.save(net.state_dict(), PATH)"
      ],
      "metadata": {
        "id": "fvOItUvGubPO"
      },
      "execution_count": 22,
      "outputs": []
    },
    {
      "cell_type": "markdown",
      "source": [
        "#Testing and finding Accuracy"
      ],
      "metadata": {
        "id": "bMGJWIJr2MbB"
      }
    },
    {
      "cell_type": "code",
      "source": [
        "model = Net()\n",
        "model.load_state_dict(torch.load(\"model_cls.pth\"))\n",
        "model.eval()"
      ],
      "metadata": {
        "id": "uBZTdNkzz9d0",
        "colab": {
          "base_uri": "https://localhost:8080/"
        },
        "outputId": "fdd60ced-2389-4def-e360-53e088f00dd8"
      },
      "execution_count": 24,
      "outputs": [
        {
          "output_type": "execute_result",
          "data": {
            "text/plain": [
              "Net(\n",
              "  (conv1): Conv2d(3, 8, kernel_size=(3, 3), stride=(1, 1))\n",
              "  (bn1): BatchNorm2d(8, eps=1e-05, momentum=0.1, affine=True, track_running_stats=True)\n",
              "  (conv2): Conv2d(8, 16, kernel_size=(3, 3), stride=(1, 1))\n",
              "  (bn2): BatchNorm2d(16, eps=1e-05, momentum=0.1, affine=True, track_running_stats=True)\n",
              "  (pool): MaxPool2d(kernel_size=2, stride=2, padding=0, dilation=1, ceil_mode=False)\n",
              "  (conv3): Conv2d(16, 32, kernel_size=(3, 3), stride=(1, 1))\n",
              "  (bn3): BatchNorm2d(32, eps=1e-05, momentum=0.1, affine=True, track_running_stats=True)\n",
              "  (fc1): Linear(in_features=800, out_features=128, bias=True)\n",
              "  (fc2): Linear(in_features=128, out_features=64, bias=True)\n",
              "  (fc5): Linear(in_features=64, out_features=7, bias=True)\n",
              ")"
            ]
          },
          "metadata": {},
          "execution_count": 24
        }
      ]
    },
    {
      "cell_type": "code",
      "source": [
        "y_test = torch.from_numpy(y_test)"
      ],
      "metadata": {
        "id": "aH0DYcW3xSaB"
      },
      "execution_count": 10,
      "outputs": []
    },
    {
      "cell_type": "code",
      "source": [
        "ccount,tcount = 0,0\n",
        "clount = np.zeros([7])\n",
        "for i in range(len(X_test)):\n",
        "          # get the inputs; data is a list of [inputs, labels]\n",
        "        #inputs, labels = data\n",
        "  inputs = X_test[i]\n",
        "        \n",
        "  label = y_test[i]\n",
        "        # zero the parameter gradients\n",
        "        # forward + backward + optimize\n",
        "  outputs = model(inputs.float())\n",
        "        #print(outputs)\n",
        "  pred = torch.argmax(outputs[0])\n",
        "  #print(pred)\n",
        "  tcount+=1\n",
        "  if pred == y_test[i]:\n",
        "    clount[pred]+=1\n",
        "    ccount+=1\n",
        "    print(pred)\n",
        "        # print statistics\n",
        "  \n",
        "  #if i % 500 == 499:    # print every 2000 mini-batches\n",
        "   #   print(f'[{epoch + 1}, {i + 1:5d}] loss: {running_loss / 2000:.3f}')\n",
        "  #    running_loss = 0.0"
      ],
      "metadata": {
        "id": "PXMT6K0erwmy"
      },
      "execution_count": null,
      "outputs": []
    },
    {
      "cell_type": "code",
      "source": [
        "a = y_test.unique(return_counts=True)\n",
        "arg = np.array(clount)\n",
        "result = arg/a[1]\n",
        "np.sort(result)"
      ],
      "metadata": {
        "colab": {
          "base_uri": "https://localhost:8080/"
        },
        "id": "GnQ4ShQi0HYs",
        "outputId": "cc8ce882-5bdc-4116-8581-8be194a21e36"
      },
      "execution_count": 22,
      "outputs": [
        {
          "output_type": "execute_result",
          "data": {
            "text/plain": [
              "array([0.84042552, 0.85458169, 0.89786367, 0.89958405, 0.91829735,\n",
              "       0.95110219, 0.96363282])"
            ]
          },
          "metadata": {},
          "execution_count": 22
        }
      ]
    }
  ]
}